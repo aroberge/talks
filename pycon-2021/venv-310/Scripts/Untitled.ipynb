{
 "cells": [
  {
   "cell_type": "code",
   "execution_count": 1,
   "id": "6fe1eed5",
   "metadata": {},
   "outputs": [
    {
     "name": "stdout",
     "output_type": "stream",
     "text": [
      "3.10.0b1 (tags/v3.10.0b1:ba42175, May  3 2021, 20:22:30) [MSC v.1928 64 bit (AMD64)]\n"
     ]
    }
   ],
   "source": [
    "import sys\n",
    "print(sys.version)\n",
    "from math import *"
   ]
  },
  {
   "cell_type": "code",
   "execution_count": 2,
   "id": "59a5c998",
   "metadata": {},
   "outputs": [
    {
     "ename": "NameError",
     "evalue": "name 'tabs' is not defined",
     "output_type": "error",
     "traceback": [
      "\u001b[1;31m---------------------------------------------------------------------------\u001b[0m",
      "\u001b[1;31mNameError\u001b[0m                                 Traceback (most recent call last)",
      "\u001b[1;32m<ipython-input-2-89980eda1018>\u001b[0m in \u001b[0;36m<module>\u001b[1;34m\u001b[0m\n\u001b[1;32m----> 1\u001b[1;33m \u001b[0ma\u001b[0m \u001b[1;33m=\u001b[0m \u001b[0mtabs\u001b[0m\u001b[1;33m(\u001b[0m\u001b[1;36m3\u001b[0m\u001b[1;33m)\u001b[0m\u001b[1;33m\u001b[0m\u001b[1;33m\u001b[0m\u001b[0m\n\u001b[0m",
      "\u001b[1;31mNameError\u001b[0m: name 'tabs' is not defined"
     ]
    }
   ],
   "source": [
    "a = tabs(3)"
   ]
  },
  {
   "cell_type": "code",
   "execution_count": 3,
   "id": "c7ddfc38",
   "metadata": {},
   "outputs": [],
   "source": [
    "from friendly.jupyter import *\n",
    "\n",
    "set_formatter('light')  # Nicer display"
   ]
  },
  {
   "cell_type": "code",
   "execution_count": 4,
   "id": "cd483fa0",
   "metadata": {},
   "outputs": [
    {
     "data": {
      "text/html": [
       "<pre style=\"white-space:pre;overflow-x:auto;line-height:normal;font-family:Menlo,'DejaVu Sans Mono',consolas,'Courier New',monospace\">\n",
       "</pre>\n"
      ],
      "text/plain": [
       "\n"
      ]
     },
     "metadata": {},
     "output_type": "display_data"
    },
    {
     "data": {
      "text/html": [
       "<pre style=\"white-space:pre;overflow-x:auto;line-height:normal;font-family:Menlo,'DejaVu Sans Mono',consolas,'Courier New',monospace\"><span style=\"color: #dd0000; text-decoration-color: #dd0000; background-color: #ffffff\">Traceback (most recent call last):</span><span style=\"background-color: #ffffff\">                                                           </span>\n",
       "<span style=\"color: #101010; text-decoration-color: #101010; background-color: #ffffff\">  File </span><span style=\"color: #005500; text-decoration-color: #005500; background-color: #ffffff\">\"In [4]\"</span><span style=\"color: #101010; text-decoration-color: #101010; background-color: #ffffff\">, line 1, in </span><span style=\"color: #0011aa; text-decoration-color: #0011aa; background-color: #ffffff\">&lt;module&gt;</span><span style=\"background-color: #ffffff\">                                                         </span>\n",
       "<span style=\"color: #101010; text-decoration-color: #101010; background-color: #ffffff\">    </span><span style=\"color: #0011aa; text-decoration-color: #0011aa; background-color: #ffffff\">a</span><span style=\"color: #101010; text-decoration-color: #101010; background-color: #ffffff\"> </span><span style=\"color: #783114; text-decoration-color: #783114; background-color: #ffffff\">=</span><span style=\"color: #101010; text-decoration-color: #101010; background-color: #ffffff\"> </span><span style=\"color: #0011aa; text-decoration-color: #0011aa; background-color: #ffffff\">tabs</span><span style=\"color: #783114; text-decoration-color: #783114; background-color: #ffffff\">(</span><span style=\"color: #101010; text-decoration-color: #101010; background-color: #ffffff\">3</span><span style=\"color: #783114; text-decoration-color: #783114; background-color: #ffffff\">)</span><span style=\"background-color: #ffffff\">                                                                              </span>\n",
       "<span style=\"color: #dd0000; text-decoration-color: #dd0000; background-color: #ffffff\">NameError</span><span style=\"color: #101010; text-decoration-color: #101010; background-color: #ffffff\">: </span><span style=\"color: #0011aa; text-decoration-color: #0011aa; background-color: #ffffff\">name 'tabs' is not defined</span><span style=\"background-color: #ffffff\">                                                        </span>\n",
       "\n",
       "Did you mean <span style=\"color: #005500; text-decoration-color: #005500; background-color: #ffffff\">abs</span>?                                                                            \n",
       "</pre>\n"
      ],
      "text/plain": [
       "\u001b[38;2;221;0;0;48;2;255;255;255mTraceback (most recent call last):\u001b[0m\u001b[48;2;255;255;255m                                                           \u001b[0m\n",
       "\u001b[38;2;16;16;16;48;2;255;255;255m  File \u001b[0m\u001b[38;2;0;85;0;48;2;255;255;255m\"In [4]\"\u001b[0m\u001b[38;2;16;16;16;48;2;255;255;255m, line \u001b[0m\u001b[38;2;16;16;16;48;2;255;255;255m1\u001b[0m\u001b[38;2;16;16;16;48;2;255;255;255m, in \u001b[0m\u001b[38;2;0;17;170;48;2;255;255;255m<module>\u001b[0m\u001b[48;2;255;255;255m                                                         \u001b[0m\n",
       "\u001b[38;2;16;16;16;48;2;255;255;255m    \u001b[0m\u001b[38;2;0;17;170;48;2;255;255;255ma\u001b[0m\u001b[38;2;16;16;16;48;2;255;255;255m \u001b[0m\u001b[38;2;120;49;20;48;2;255;255;255m=\u001b[0m\u001b[38;2;16;16;16;48;2;255;255;255m \u001b[0m\u001b[38;2;0;17;170;48;2;255;255;255mtabs\u001b[0m\u001b[38;2;120;49;20;48;2;255;255;255m(\u001b[0m\u001b[38;2;16;16;16;48;2;255;255;255m3\u001b[0m\u001b[38;2;120;49;20;48;2;255;255;255m)\u001b[0m\u001b[48;2;255;255;255m                                                                              \u001b[0m\n",
       "\u001b[38;2;221;0;0;48;2;255;255;255mNameError\u001b[0m\u001b[38;2;16;16;16;48;2;255;255;255m: \u001b[0m\u001b[38;2;0;17;170;48;2;255;255;255mname 'tabs' is not defined\u001b[0m\u001b[48;2;255;255;255m                                                        \u001b[0m\n",
       "\n",
       "Did you mean \u001b[38;2;0;85;0;48;2;255;255;255mabs\u001b[0m?                                                                            \n"
      ]
     },
     "metadata": {},
     "output_type": "display_data"
    }
   ],
   "source": [
    "a = tabs(3)"
   ]
  },
  {
   "cell_type": "code",
   "execution_count": 5,
   "id": "8ee5798d",
   "metadata": {},
   "outputs": [
    {
     "data": {
      "text/html": [
       "<pre style=\"white-space:pre;overflow-x:auto;line-height:normal;font-family:Menlo,'DejaVu Sans Mono',consolas,'Courier New',monospace\">\n",
       "</pre>\n"
      ],
      "text/plain": [
       "\n"
      ]
     },
     "metadata": {},
     "output_type": "display_data"
    },
    {
     "data": {
      "text/html": [
       "<pre style=\"white-space:pre;overflow-x:auto;line-height:normal;font-family:Menlo,'DejaVu Sans Mono',consolas,'Courier New',monospace\">In your program, <span style=\"color: #0011aa; text-decoration-color: #0011aa; background-color: #ffffff\">tabs</span> is an unknown name. Instead of writing <span style=\"color: #0011aa; text-decoration-color: #0011aa; background-color: #ffffff\">tabs</span>, perhaps you meant one of  \n",
       "the following:                                                                               \n",
       "\n",
       "<span style=\"color: #808000; text-decoration-color: #808000; font-weight: bold\"> • </span>Local scope: <span style=\"color: #0011aa; text-decoration-color: #0011aa; background-color: #ffffff\">fabs</span>                                                                         \n",
       "<span style=\"color: #808000; text-decoration-color: #808000; font-weight: bold\"> • </span>Python builtins: <span style=\"color: #005500; text-decoration-color: #005500; background-color: #ffffff\">abs</span>                                                                      \n",
       "</pre>\n"
      ],
      "text/plain": [
       "In your program, \u001b[38;2;0;17;170;48;2;255;255;255mtabs\u001b[0m is an unknown name. Instead of writing \u001b[38;2;0;17;170;48;2;255;255;255mtabs\u001b[0m, perhaps you meant one of  \n",
       "the following:                                                                               \n",
       "\n",
       "\u001b[1;33m • \u001b[0mLocal scope: \u001b[38;2;0;17;170;48;2;255;255;255mfabs\u001b[0m                                                                         \n",
       "\u001b[1;33m • \u001b[0mPython builtins: \u001b[38;2;0;85;0;48;2;255;255;255mabs\u001b[0m                                                                      \n"
      ]
     },
     "metadata": {},
     "output_type": "display_data"
    }
   ],
   "source": [
    "why()"
   ]
  },
  {
   "cell_type": "code",
   "execution_count": null,
   "id": "bb13d656",
   "metadata": {},
   "outputs": [],
   "source": [
    "set_formatter('light')\n",
    "why()"
   ]
  }
 ],
 "metadata": {
  "kernelspec": {
   "display_name": "Python 3",
   "language": "python",
   "name": "python3"
  },
  "language_info": {
   "codemirror_mode": {
    "name": "ipython",
    "version": 3
   },
   "file_extension": ".py",
   "mimetype": "text/x-python",
   "name": "python",
   "nbconvert_exporter": "python",
   "pygments_lexer": "ipython3",
   "version": "3.10.0b1"
  }
 },
 "nbformat": 4,
 "nbformat_minor": 5
}
